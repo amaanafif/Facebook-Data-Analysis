{
 "cells": [
  {
   "cell_type": "code",
   "execution_count": 68,
   "id": "83234f61",
   "metadata": {},
   "outputs": [],
   "source": [
    "import pandas as pd"
   ]
  },
  {
   "cell_type": "code",
   "execution_count": 69,
   "id": "331485e7",
   "metadata": {},
   "outputs": [],
   "source": [
    "excel_sheets =pd.ExcelFile(r\"C:/Users/amaan/Documents/New folder/qwe.xlsx\")"
   ]
  },
  {
   "cell_type": "code",
   "execution_count": 70,
   "id": "3fede20f",
   "metadata": {},
   "outputs": [
    {
     "data": {
      "text/plain": [
       "['Questions', 'Post_List', 'Comments', 'Reactions', 'Shares']"
      ]
     },
     "execution_count": 70,
     "metadata": {},
     "output_type": "execute_result"
    }
   ],
   "source": [
    "excel_sheets.sheet_names"
   ]
  },
  {
   "cell_type": "code",
   "execution_count": 71,
   "id": "47d4f593",
   "metadata": {},
   "outputs": [],
   "source": [
    "df_post=excel_sheets.parse('Post_List')\n",
    "df_comment=excel_sheets.parse('Comments')\n",
    "df_react=excel_sheets.parse('Reactions')\n",
    "df_share=excel_sheets.parse('Shares')"
   ]
  },
  {
   "cell_type": "code",
   "execution_count": 72,
   "id": "9503d7f4",
   "metadata": {},
   "outputs": [
    {
     "data": {
      "text/html": [
       "<div>\n",
       "<style scoped>\n",
       "    .dataframe tbody tr th:only-of-type {\n",
       "        vertical-align: middle;\n",
       "    }\n",
       "\n",
       "    .dataframe tbody tr th {\n",
       "        vertical-align: top;\n",
       "    }\n",
       "\n",
       "    .dataframe thead th {\n",
       "        text-align: right;\n",
       "    }\n",
       "</style>\n",
       "<table border=\"1\" class=\"dataframe\">\n",
       "  <thead>\n",
       "    <tr style=\"text-align: right;\">\n",
       "      <th></th>\n",
       "      <th>post_date</th>\n",
       "      <th>Post_Text</th>\n",
       "      <th>Post_Embedded_URL</th>\n",
       "      <th>Post_URL</th>\n",
       "    </tr>\n",
       "  </thead>\n",
       "  <tbody>\n",
       "    <tr>\n",
       "      <th>0</th>\n",
       "      <td>2020-07-22</td>\n",
       "      <td>Dear Shankra Family, \\n first of all, we want ...</td>\n",
       "      <td>http://bit.ly/ShankraTickets2021</td>\n",
       "      <td>https://m.facebook.com/story.php?story_fbid=30...</td>\n",
       "    </tr>\n",
       "    <tr>\n",
       "      <th>1</th>\n",
       "      <td>2020-10-30</td>\n",
       "      <td>Walking towards the future with the strongest ...</td>\n",
       "      <td>b.link/ShankraTickets2021</td>\n",
       "      <td>https://m.facebook.com/story.php?story_fbid=33...</td>\n",
       "    </tr>\n",
       "    <tr>\n",
       "      <th>2</th>\n",
       "      <td>2020-10-27</td>\n",
       "      <td>The Mesolcina Mountain Chain, home to Shankra ...</td>\n",
       "      <td>b.link/ShankraTickets2021</td>\n",
       "      <td>https://m.facebook.com/story.php?story_fbid=33...</td>\n",
       "    </tr>\n",
       "    <tr>\n",
       "      <th>3</th>\n",
       "      <td>2020-10-24</td>\n",
       "      <td>We believe in pure music, freely expressed by ...</td>\n",
       "      <td>b.link/ShankraTickets2021</td>\n",
       "      <td>https://m.facebook.com/story.php?story_fbid=33...</td>\n",
       "    </tr>\n",
       "    <tr>\n",
       "      <th>4</th>\n",
       "      <td>2020-10-21</td>\n",
       "      <td>The beating heart of our Valley, Shankra Stage...</td>\n",
       "      <td>b.link/ShankraTickets2021</td>\n",
       "      <td>https://m.facebook.com/story.php?story_fbid=33...</td>\n",
       "    </tr>\n",
       "  </tbody>\n",
       "</table>\n",
       "</div>"
      ],
      "text/plain": [
       "   post_date                                          Post_Text  \\\n",
       "0 2020-07-22  Dear Shankra Family, \\n first of all, we want ...   \n",
       "1 2020-10-30  Walking towards the future with the strongest ...   \n",
       "2 2020-10-27  The Mesolcina Mountain Chain, home to Shankra ...   \n",
       "3 2020-10-24  We believe in pure music, freely expressed by ...   \n",
       "4 2020-10-21  The beating heart of our Valley, Shankra Stage...   \n",
       "\n",
       "                  Post_Embedded_URL  \\\n",
       "0  http://bit.ly/ShankraTickets2021   \n",
       "1         b.link/ShankraTickets2021   \n",
       "2         b.link/ShankraTickets2021   \n",
       "3         b.link/ShankraTickets2021   \n",
       "4         b.link/ShankraTickets2021   \n",
       "\n",
       "                                            Post_URL  \n",
       "0  https://m.facebook.com/story.php?story_fbid=30...  \n",
       "1  https://m.facebook.com/story.php?story_fbid=33...  \n",
       "2  https://m.facebook.com/story.php?story_fbid=33...  \n",
       "3  https://m.facebook.com/story.php?story_fbid=33...  \n",
       "4  https://m.facebook.com/story.php?story_fbid=33...  "
      ]
     },
     "execution_count": 72,
     "metadata": {},
     "output_type": "execute_result"
    }
   ],
   "source": [
    "df_post.head()"
   ]
  },
  {
   "cell_type": "code",
   "execution_count": 73,
   "id": "fe000da3",
   "metadata": {},
   "outputs": [
    {
     "data": {
      "text/html": [
       "<div>\n",
       "<style scoped>\n",
       "    .dataframe tbody tr th:only-of-type {\n",
       "        vertical-align: middle;\n",
       "    }\n",
       "\n",
       "    .dataframe tbody tr th {\n",
       "        vertical-align: top;\n",
       "    }\n",
       "\n",
       "    .dataframe thead th {\n",
       "        text-align: right;\n",
       "    }\n",
       "</style>\n",
       "<table border=\"1\" class=\"dataframe\">\n",
       "  <thead>\n",
       "    <tr style=\"text-align: right;\">\n",
       "      <th></th>\n",
       "      <th>Name</th>\n",
       "      <th>People_URL</th>\n",
       "      <th>Page_Or_Person</th>\n",
       "      <th>Post_URL</th>\n",
       "      <th>Comment</th>\n",
       "    </tr>\n",
       "  </thead>\n",
       "  <tbody>\n",
       "    <tr>\n",
       "      <th>0</th>\n",
       "      <td>Andreas Kenotaph</td>\n",
       "      <td>https://m.facebook.com/andreas.inkmann</td>\n",
       "      <td>Person</td>\n",
       "      <td>https://m.facebook.com/story.php?story_fbid=30...</td>\n",
       "      <td>Felt good to give you something back for all t...</td>\n",
       "    </tr>\n",
       "    <tr>\n",
       "      <th>1</th>\n",
       "      <td>Top fan\\nLuca Maccarone</td>\n",
       "      <td>https://m.facebook.com/luca.maccarone.7</td>\n",
       "      <td>Person</td>\n",
       "      <td>https://m.facebook.com/story.php?story_fbid=30...</td>\n",
       "      <td>I already canâ€™t wait for next year ðŸ˜ It w...</td>\n",
       "    </tr>\n",
       "    <tr>\n",
       "      <th>2</th>\n",
       "      <td>Lia Silva</td>\n",
       "      <td>https://m.facebook.com/alma.lilly.aho</td>\n",
       "      <td>Person</td>\n",
       "      <td>https://m.facebook.com/story.php?story_fbid=30...</td>\n",
       "      <td>Is the line up remaining the same?ðŸ¦‹</td>\n",
       "    </tr>\n",
       "    <tr>\n",
       "      <th>3</th>\n",
       "      <td>Author\\nShankra Festival</td>\n",
       "      <td>https://m.facebook.com/shankrafestival/</td>\n",
       "      <td>Page</td>\n",
       "      <td>https://m.facebook.com/story.php?story_fbid=30...</td>\n",
       "      <td>yes :)</td>\n",
       "    </tr>\n",
       "    <tr>\n",
       "      <th>4</th>\n",
       "      <td>Author\\nShankra Festival</td>\n",
       "      <td>https://m.facebook.com/shankrafestival/</td>\n",
       "      <td>Page</td>\n",
       "      <td>https://m.facebook.com/story.php?story_fbid=30...</td>\n",
       "      <td>Yes, tickets for the 2020's edition will grant...</td>\n",
       "    </tr>\n",
       "  </tbody>\n",
       "</table>\n",
       "</div>"
      ],
      "text/plain": [
       "                       Name                               People_URL  \\\n",
       "0          Andreas Kenotaph   https://m.facebook.com/andreas.inkmann   \n",
       "1   Top fan\\nLuca Maccarone  https://m.facebook.com/luca.maccarone.7   \n",
       "2                 Lia Silva    https://m.facebook.com/alma.lilly.aho   \n",
       "3  Author\\nShankra Festival  https://m.facebook.com/shankrafestival/   \n",
       "4  Author\\nShankra Festival  https://m.facebook.com/shankrafestival/   \n",
       "\n",
       "  Page_Or_Person                                           Post_URL  \\\n",
       "0         Person  https://m.facebook.com/story.php?story_fbid=30...   \n",
       "1         Person  https://m.facebook.com/story.php?story_fbid=30...   \n",
       "2         Person  https://m.facebook.com/story.php?story_fbid=30...   \n",
       "3           Page  https://m.facebook.com/story.php?story_fbid=30...   \n",
       "4           Page  https://m.facebook.com/story.php?story_fbid=30...   \n",
       "\n",
       "                                             Comment  \n",
       "0  Felt good to give you something back for all t...  \n",
       "1  I already canâ€™t wait for next year ðŸ˜ It w...  \n",
       "2             Is the line up remaining the same?ðŸ¦‹  \n",
       "3                                             yes :)  \n",
       "4  Yes, tickets for the 2020's edition will grant...  "
      ]
     },
     "execution_count": 73,
     "metadata": {},
     "output_type": "execute_result"
    }
   ],
   "source": [
    "df_comment.head()"
   ]
  },
  {
   "cell_type": "code",
   "execution_count": 74,
   "id": "5125bf18",
   "metadata": {},
   "outputs": [
    {
     "data": {
      "text/html": [
       "<div>\n",
       "<style scoped>\n",
       "    .dataframe tbody tr th:only-of-type {\n",
       "        vertical-align: middle;\n",
       "    }\n",
       "\n",
       "    .dataframe tbody tr th {\n",
       "        vertical-align: top;\n",
       "    }\n",
       "\n",
       "    .dataframe thead th {\n",
       "        text-align: right;\n",
       "    }\n",
       "</style>\n",
       "<table border=\"1\" class=\"dataframe\">\n",
       "  <thead>\n",
       "    <tr style=\"text-align: right;\">\n",
       "      <th></th>\n",
       "      <th>Reactions_By</th>\n",
       "      <th>Reactions_By_URL</th>\n",
       "      <th>Reactions_What</th>\n",
       "      <th>Page_Or_Person</th>\n",
       "      <th>Post_URL</th>\n",
       "    </tr>\n",
       "  </thead>\n",
       "  <tbody>\n",
       "    <tr>\n",
       "      <th>0</th>\n",
       "      <td>Aremacs Sud-Est</td>\n",
       "      <td>https://m.facebook.com/AremacsSudEst/</td>\n",
       "      <td>Like</td>\n",
       "      <td>Page</td>\n",
       "      <td>https://m.facebook.com/story.php?story_fbid=30...</td>\n",
       "    </tr>\n",
       "    <tr>\n",
       "      <th>1</th>\n",
       "      <td>Psytranceworldwidemagazine</td>\n",
       "      <td>https://m.facebook.com/psytranceworldwidemagaz...</td>\n",
       "      <td>Love</td>\n",
       "      <td>Page</td>\n",
       "      <td>https://m.facebook.com/story.php?story_fbid=30...</td>\n",
       "    </tr>\n",
       "    <tr>\n",
       "      <th>2</th>\n",
       "      <td>Vale DeKÃ¬</td>\n",
       "      <td>https://m.facebook.com/vale.deki.5</td>\n",
       "      <td>Like</td>\n",
       "      <td>Person</td>\n",
       "      <td>https://m.facebook.com/story.php?story_fbid=30...</td>\n",
       "    </tr>\n",
       "    <tr>\n",
       "      <th>3</th>\n",
       "      <td>AndrÃ© Novais</td>\n",
       "      <td>https://m.facebook.com/andre.novais.7777</td>\n",
       "      <td>Like</td>\n",
       "      <td>Person</td>\n",
       "      <td>https://m.facebook.com/story.php?story_fbid=30...</td>\n",
       "    </tr>\n",
       "    <tr>\n",
       "      <th>4</th>\n",
       "      <td>Luca Luca</td>\n",
       "      <td>https://m.facebook.com/profile.php</td>\n",
       "      <td>Like</td>\n",
       "      <td>Person</td>\n",
       "      <td>https://m.facebook.com/story.php?story_fbid=30...</td>\n",
       "    </tr>\n",
       "  </tbody>\n",
       "</table>\n",
       "</div>"
      ],
      "text/plain": [
       "                 Reactions_By  \\\n",
       "0             Aremacs Sud-Est   \n",
       "1  Psytranceworldwidemagazine   \n",
       "2                  Vale DeKÃ¬   \n",
       "3               AndrÃ© Novais   \n",
       "4                   Luca Luca   \n",
       "\n",
       "                                    Reactions_By_URL Reactions_What  \\\n",
       "0              https://m.facebook.com/AremacsSudEst/           Like   \n",
       "1  https://m.facebook.com/psytranceworldwidemagaz...           Love   \n",
       "2                 https://m.facebook.com/vale.deki.5           Like   \n",
       "3           https://m.facebook.com/andre.novais.7777           Like   \n",
       "4                 https://m.facebook.com/profile.php           Like   \n",
       "\n",
       "  Page_Or_Person                                           Post_URL  \n",
       "0           Page  https://m.facebook.com/story.php?story_fbid=30...  \n",
       "1           Page  https://m.facebook.com/story.php?story_fbid=30...  \n",
       "2         Person  https://m.facebook.com/story.php?story_fbid=30...  \n",
       "3         Person  https://m.facebook.com/story.php?story_fbid=30...  \n",
       "4         Person  https://m.facebook.com/story.php?story_fbid=30...  "
      ]
     },
     "execution_count": 74,
     "metadata": {},
     "output_type": "execute_result"
    }
   ],
   "source": [
    "df_react.head()"
   ]
  },
  {
   "cell_type": "code",
   "execution_count": 75,
   "id": "fcc54fda",
   "metadata": {},
   "outputs": [
    {
     "data": {
      "text/html": [
       "<div>\n",
       "<style scoped>\n",
       "    .dataframe tbody tr th:only-of-type {\n",
       "        vertical-align: middle;\n",
       "    }\n",
       "\n",
       "    .dataframe tbody tr th {\n",
       "        vertical-align: top;\n",
       "    }\n",
       "\n",
       "    .dataframe thead th {\n",
       "        text-align: right;\n",
       "    }\n",
       "</style>\n",
       "<table border=\"1\" class=\"dataframe\">\n",
       "  <thead>\n",
       "    <tr style=\"text-align: right;\">\n",
       "      <th></th>\n",
       "      <th>Shares_By</th>\n",
       "      <th>Shares_By_URL</th>\n",
       "      <th>Page_Or_Person</th>\n",
       "      <th>Total_Share</th>\n",
       "      <th>Post_URL</th>\n",
       "    </tr>\n",
       "  </thead>\n",
       "  <tbody>\n",
       "    <tr>\n",
       "      <th>0</th>\n",
       "      <td>Eric Keriguy</td>\n",
       "      <td>https://m.facebook.com/eric.keriguy.7</td>\n",
       "      <td>Person</td>\n",
       "      <td>56 shares</td>\n",
       "      <td>https://m.facebook.com/story.php?story_fbid=30...</td>\n",
       "    </tr>\n",
       "    <tr>\n",
       "      <th>1</th>\n",
       "      <td>Psytranceworldwidemagazine</td>\n",
       "      <td>https://m.facebook.com/psytranceworldwidemagaz...</td>\n",
       "      <td>Page</td>\n",
       "      <td>56 shares</td>\n",
       "      <td>https://m.facebook.com/story.php?story_fbid=30...</td>\n",
       "    </tr>\n",
       "    <tr>\n",
       "      <th>2</th>\n",
       "      <td>Dj Kalanio</td>\n",
       "      <td>https://m.facebook.com/kalanio44/</td>\n",
       "      <td>Page</td>\n",
       "      <td>56 shares</td>\n",
       "      <td>https://m.facebook.com/story.php?story_fbid=30...</td>\n",
       "    </tr>\n",
       "    <tr>\n",
       "      <th>3</th>\n",
       "      <td>Silvia Sey</td>\n",
       "      <td>https://m.facebook.com/silvia.mandelli.73</td>\n",
       "      <td>Person</td>\n",
       "      <td>56 shares</td>\n",
       "      <td>https://m.facebook.com/story.php?story_fbid=30...</td>\n",
       "    </tr>\n",
       "    <tr>\n",
       "      <th>4</th>\n",
       "      <td>Giovanni Ricciardi</td>\n",
       "      <td>https://m.facebook.com/giovanniricciardijunior</td>\n",
       "      <td>Person</td>\n",
       "      <td>56 shares</td>\n",
       "      <td>https://m.facebook.com/story.php?story_fbid=30...</td>\n",
       "    </tr>\n",
       "  </tbody>\n",
       "</table>\n",
       "</div>"
      ],
      "text/plain": [
       "                    Shares_By  \\\n",
       "0                Eric Keriguy   \n",
       "1  Psytranceworldwidemagazine   \n",
       "2                  Dj Kalanio   \n",
       "3                  Silvia Sey   \n",
       "4          Giovanni Ricciardi   \n",
       "\n",
       "                                       Shares_By_URL Page_Or_Person  \\\n",
       "0              https://m.facebook.com/eric.keriguy.7         Person   \n",
       "1  https://m.facebook.com/psytranceworldwidemagaz...           Page   \n",
       "2                  https://m.facebook.com/kalanio44/           Page   \n",
       "3          https://m.facebook.com/silvia.mandelli.73         Person   \n",
       "4     https://m.facebook.com/giovanniricciardijunior         Person   \n",
       "\n",
       "  Total_Share                                           Post_URL  \n",
       "0   56 shares  https://m.facebook.com/story.php?story_fbid=30...  \n",
       "1   56 shares  https://m.facebook.com/story.php?story_fbid=30...  \n",
       "2   56 shares  https://m.facebook.com/story.php?story_fbid=30...  \n",
       "3   56 shares  https://m.facebook.com/story.php?story_fbid=30...  \n",
       "4   56 shares  https://m.facebook.com/story.php?story_fbid=30...  "
      ]
     },
     "execution_count": 75,
     "metadata": {},
     "output_type": "execute_result"
    }
   ],
   "source": [
    "df_share.head()"
   ]
  },
  {
   "cell_type": "code",
   "execution_count": 76,
   "id": "d64bbde6",
   "metadata": {},
   "outputs": [
    {
     "data": {
      "text/html": [
       "<div>\n",
       "<style scoped>\n",
       "    .dataframe tbody tr th:only-of-type {\n",
       "        vertical-align: middle;\n",
       "    }\n",
       "\n",
       "    .dataframe tbody tr th {\n",
       "        vertical-align: top;\n",
       "    }\n",
       "\n",
       "    .dataframe thead th {\n",
       "        text-align: right;\n",
       "    }\n",
       "</style>\n",
       "<table border=\"1\" class=\"dataframe\">\n",
       "  <thead>\n",
       "    <tr style=\"text-align: right;\">\n",
       "      <th></th>\n",
       "      <th>Comment_count</th>\n",
       "      <th>Reaction_count</th>\n",
       "      <th>Share_count</th>\n",
       "      <th>Total_reactions</th>\n",
       "    </tr>\n",
       "  </thead>\n",
       "  <tbody>\n",
       "    <tr>\n",
       "      <th>https://m.facebook.com/story.php?story_fbid=2440962296025518&amp;id=632170870238012&amp;__tn__=-R</th>\n",
       "      <td>93.0</td>\n",
       "      <td>95</td>\n",
       "      <td>28.0</td>\n",
       "      <td>216.0</td>\n",
       "    </tr>\n",
       "    <tr>\n",
       "      <th>https://m.facebook.com/story.php?story_fbid=2450929748362106&amp;id=632170870238012&amp;__tn__=-R</th>\n",
       "      <td>89.0</td>\n",
       "      <td>94</td>\n",
       "      <td>30.0</td>\n",
       "      <td>213.0</td>\n",
       "    </tr>\n",
       "    <tr>\n",
       "      <th>https://m.facebook.com/story.php?story_fbid=2425092914279123&amp;id=632170870238012&amp;__tn__=-R</th>\n",
       "      <td>86.0</td>\n",
       "      <td>91</td>\n",
       "      <td>29.0</td>\n",
       "      <td>206.0</td>\n",
       "    </tr>\n",
       "    <tr>\n",
       "      <th>https://m.facebook.com/story.php?story_fbid=2824549447666799&amp;id=632170870238012&amp;__tn__=-R</th>\n",
       "      <td>66.0</td>\n",
       "      <td>92</td>\n",
       "      <td>21.0</td>\n",
       "      <td>179.0</td>\n",
       "    </tr>\n",
       "    <tr>\n",
       "      <th>https://m.facebook.com/story.php?story_fbid=2503349356453478&amp;id=632170870238012&amp;__tn__=-R</th>\n",
       "      <td>64.0</td>\n",
       "      <td>91</td>\n",
       "      <td>25.0</td>\n",
       "      <td>180.0</td>\n",
       "    </tr>\n",
       "  </tbody>\n",
       "</table>\n",
       "</div>"
      ],
      "text/plain": [
       "                                                    Comment_count  \\\n",
       "https://m.facebook.com/story.php?story_fbid=244...           93.0   \n",
       "https://m.facebook.com/story.php?story_fbid=245...           89.0   \n",
       "https://m.facebook.com/story.php?story_fbid=242...           86.0   \n",
       "https://m.facebook.com/story.php?story_fbid=282...           66.0   \n",
       "https://m.facebook.com/story.php?story_fbid=250...           64.0   \n",
       "\n",
       "                                                    Reaction_count  \\\n",
       "https://m.facebook.com/story.php?story_fbid=244...              95   \n",
       "https://m.facebook.com/story.php?story_fbid=245...              94   \n",
       "https://m.facebook.com/story.php?story_fbid=242...              91   \n",
       "https://m.facebook.com/story.php?story_fbid=282...              92   \n",
       "https://m.facebook.com/story.php?story_fbid=250...              91   \n",
       "\n",
       "                                                    Share_count  \\\n",
       "https://m.facebook.com/story.php?story_fbid=244...         28.0   \n",
       "https://m.facebook.com/story.php?story_fbid=245...         30.0   \n",
       "https://m.facebook.com/story.php?story_fbid=242...         29.0   \n",
       "https://m.facebook.com/story.php?story_fbid=282...         21.0   \n",
       "https://m.facebook.com/story.php?story_fbid=250...         25.0   \n",
       "\n",
       "                                                    Total_reactions  \n",
       "https://m.facebook.com/story.php?story_fbid=244...            216.0  \n",
       "https://m.facebook.com/story.php?story_fbid=245...            213.0  \n",
       "https://m.facebook.com/story.php?story_fbid=242...            206.0  \n",
       "https://m.facebook.com/story.php?story_fbid=282...            179.0  \n",
       "https://m.facebook.com/story.php?story_fbid=250...            180.0  "
      ]
     },
     "execution_count": 76,
     "metadata": {},
     "output_type": "execute_result"
    }
   ],
   "source": [
    "u2=pd.DataFrame(df_comment.Post_URL.value_counts()).rename(columns={'Post_URL':'Comment_count'})\n",
    "u3=pd.DataFrame(df_react.Post_URL.value_counts()).rename(columns={'Post_URL':'Reaction_count'})\n",
    "u4=pd.DataFrame(df_share.Post_URL.value_counts()).rename(columns={'Post_URL':'Share_count'})\n",
    "uf=pd.concat([u2,u3,u4], axis=1, join= 'outer')\n",
    "uf['Total_reactions']=uf.sum(axis=1)\n",
    "\n",
    "uf.head()"
   ]
  },
  {
   "cell_type": "code",
   "execution_count": 77,
   "id": "45484730",
   "metadata": {},
   "outputs": [
    {
     "data": {
      "text/plain": [
       "'https://m.facebook.com/story.php?story_fbid=2440962296025518&id=632170870238012&__tn__=-R'"
      ]
     },
     "execution_count": 77,
     "metadata": {},
     "output_type": "execute_result"
    }
   ],
   "source": [
    "#to know the url of post with max interactions\n",
    "kw=uf.Total_reactions.idxmax()\n",
    "kw"
   ]
  },
  {
   "cell_type": "code",
   "execution_count": 78,
   "id": "5efba460",
   "metadata": {},
   "outputs": [
    {
     "name": "stdout",
     "output_type": "stream",
     "text": [
      "Requirement already satisfied: nltk in c:\\users\\amaan\\anaconda3\\lib\\site-packages (3.6.1)\n",
      "Requirement already satisfied: joblib in c:\\users\\amaan\\anaconda3\\lib\\site-packages (from nltk) (1.0.1)\n",
      "Requirement already satisfied: tqdm in c:\\users\\amaan\\anaconda3\\lib\\site-packages (from nltk) (4.59.0)\n",
      "Requirement already satisfied: click in c:\\users\\amaan\\anaconda3\\lib\\site-packages (from nltk) (7.1.2)\n",
      "Requirement already satisfied: regex in c:\\users\\amaan\\anaconda3\\lib\\site-packages (from nltk) (2021.4.4)\n",
      "Requirement already satisfied: stop_words in c:\\users\\amaan\\anaconda3\\lib\\site-packages (2018.7.23)\n"
     ]
    },
    {
     "name": "stderr",
     "output_type": "stream",
     "text": [
      "[nltk_data] Downloading package stopwords to\n",
      "[nltk_data]     C:\\Users\\amaan\\AppData\\Roaming\\nltk_data...\n",
      "[nltk_data]   Package stopwords is already up-to-date!\n"
     ]
    },
    {
     "data": {
      "text/plain": [
       "True"
      ]
     },
     "execution_count": 78,
     "metadata": {},
     "output_type": "execute_result"
    }
   ],
   "source": [
    "#loading required libraries\n",
    "!pip install nltk\n",
    "!pip install stop_words\n",
    "import nltk\n",
    "nltk.download('stopwords')"
   ]
  },
  {
   "cell_type": "code",
   "execution_count": 79,
   "id": "7ade8ce8",
   "metadata": {},
   "outputs": [],
   "source": [
    "import nltk\n",
    "from nltk import tokenize\n",
    "from operator import itemgetter\n",
    "import math\n",
    "from nltk.corpus import stopwords\n",
    "from nltk.tokenize import word_tokenize \n",
    "stop_words = set(stopwords.words('english'))"
   ]
  },
  {
   "cell_type": "code",
   "execution_count": 80,
   "id": "fb4a2a47",
   "metadata": {},
   "outputs": [],
   "source": [
    "post=\"Dear Shankra Family, as we are facing an out of ordinary situation due to the pandemic of COVID-19 which affects our daily life, we felt that sharing our thoughts on the future was much needed. To reassure you, we are not planning or considering to cancel Shankra 2020. This uncertain moment has an impact on the way our society functions and Shankra Festival is no exception to that. Still, we have an unshakable hope that four months from now till our festival gate opens, the grand scale of things will be much different from now. With that faith and hope we still continue the production of the festival as planned. As event organizers we will implement and execute with responsibility all rules, regulations and recommendations issued by the Swiss Government. It always starts with a simple actionâ€¦ now more than ever that prevails to be the truth. Individual responsibility can have an immeasurable impact in the environment surrounding us, particularly in this delicate moment that concerns the health of your beloved family and community. We request you to be constantly informed and execute as a duty the health and safety measures issued by your local government and authorities, as they may vary from country to country. For all the ticket holders, we are working on a suitable solution in case of a forced cancellation. We are evaluating the situation and will provide you with more information in due time. We hope in your patience and understanding. Your Life is Your Message Shankra Team\""
   ]
  },
  {
   "cell_type": "code",
   "execution_count": 81,
   "id": "b89c2072",
   "metadata": {},
   "outputs": [
    {
     "name": "stdout",
     "output_type": "stream",
     "text": [
      "253\n"
     ]
    }
   ],
   "source": [
    "total_words = post.split()\n",
    "total_word_length = len(total_words)\n",
    "print(total_word_length)"
   ]
  },
  {
   "cell_type": "code",
   "execution_count": 82,
   "id": "ac9a6990",
   "metadata": {},
   "outputs": [
    {
     "name": "stdout",
     "output_type": "stream",
     "text": [
      "{'Dear': 0.003952569169960474, 'Shankra': 0.015810276679841896, 'Family,': 0.003952569169960474, 'facing': 0.003952569169960474, 'ordinary': 0.003952569169960474, 'situation': 0.007905138339920948, 'due': 0.007905138339920948, 'pandemic': 0.003952569169960474, 'COVID-19': 0.003952569169960474, 'affects': 0.003952569169960474, 'daily': 0.003952569169960474, 'life,': 0.003952569169960474, 'felt': 0.003952569169960474, 'sharing': 0.003952569169960474, 'thoughts': 0.003952569169960474, 'future': 0.003952569169960474, 'much': 0.007905138339920948, 'needed': 0.003952569169960474, 'To': 0.003952569169960474, 'reassure': 0.003952569169960474, 'you,': 0.003952569169960474, 'planning': 0.003952569169960474, 'considering': 0.003952569169960474, 'cancel': 0.003952569169960474, '2020': 0.003952569169960474, 'This': 0.003952569169960474, 'uncertain': 0.003952569169960474, 'moment': 0.007905138339920948, 'impact': 0.007905138339920948, 'way': 0.003952569169960474, 'society': 0.003952569169960474, 'functions': 0.003952569169960474, 'Festival': 0.003952569169960474, 'exception': 0.003952569169960474, 'Still,': 0.003952569169960474, 'unshakable': 0.003952569169960474, 'hope': 0.011857707509881422, 'four': 0.003952569169960474, 'months': 0.003952569169960474, 'till': 0.003952569169960474, 'festival': 0.007905138339920948, 'gate': 0.003952569169960474, 'opens,': 0.003952569169960474, 'grand': 0.003952569169960474, 'scale': 0.003952569169960474, 'things': 0.003952569169960474, 'different': 0.003952569169960474, 'With': 0.003952569169960474, 'faith': 0.003952569169960474, 'still': 0.003952569169960474, 'continue': 0.003952569169960474, 'production': 0.003952569169960474, 'planned': 0.003952569169960474, 'As': 0.003952569169960474, 'event': 0.003952569169960474, 'organizers': 0.003952569169960474, 'implement': 0.003952569169960474, 'execute': 0.007905138339920948, 'responsibility': 0.007905138339920948, 'rules,': 0.003952569169960474, 'regulations': 0.003952569169960474, 'recommendations': 0.003952569169960474, 'issued': 0.007905138339920948, 'Swiss': 0.003952569169960474, 'Government': 0.003952569169960474, 'It': 0.003952569169960474, 'always': 0.003952569169960474, 'starts': 0.003952569169960474, 'simple': 0.003952569169960474, 'actionâ€¦': 0.003952569169960474, 'ever': 0.003952569169960474, 'prevails': 0.003952569169960474, 'truth': 0.003952569169960474, 'Individual': 0.003952569169960474, 'immeasurable': 0.003952569169960474, 'environment': 0.003952569169960474, 'surrounding': 0.003952569169960474, 'us,': 0.003952569169960474, 'particularly': 0.003952569169960474, 'delicate': 0.003952569169960474, 'concerns': 0.003952569169960474, 'health': 0.007905138339920948, 'beloved': 0.003952569169960474, 'family': 0.003952569169960474, 'community': 0.003952569169960474, 'We': 0.011857707509881422, 'request': 0.003952569169960474, 'constantly': 0.003952569169960474, 'informed': 0.003952569169960474, 'duty': 0.003952569169960474, 'safety': 0.003952569169960474, 'measures': 0.003952569169960474, 'local': 0.003952569169960474, 'government': 0.003952569169960474, 'authorities,': 0.003952569169960474, 'may': 0.003952569169960474, 'vary': 0.003952569169960474, 'country': 0.007905138339920948, 'For': 0.003952569169960474, 'ticket': 0.003952569169960474, 'holders,': 0.003952569169960474, 'working': 0.003952569169960474, 'suitable': 0.003952569169960474, 'solution': 0.003952569169960474, 'case': 0.003952569169960474, 'forced': 0.003952569169960474, 'cancellation': 0.003952569169960474, 'evaluating': 0.003952569169960474, 'provide': 0.003952569169960474, 'information': 0.003952569169960474, 'time': 0.003952569169960474, 'patience': 0.003952569169960474, 'understanding': 0.003952569169960474, 'Your': 0.007905138339920948, 'Life': 0.003952569169960474, 'Message': 0.003952569169960474, 'Team': 0.003952569169960474}\n"
     ]
    }
   ],
   "source": [
    "#calculating tf score\n",
    "\n",
    "tf_score = {}\n",
    "for each_word in total_words:\n",
    "    each_word = each_word.replace('.','')\n",
    "    if each_word not in stop_words:\n",
    "        if each_word in tf_score:\n",
    "            tf_score[each_word] += 1\n",
    "        else:\n",
    "            tf_score[each_word] = 1\n",
    "\n",
    "# Dividing by total_word_length for each dictionary element\n",
    "tf_score.update((x, y/int(total_word_length)) for x, y in tf_score.items())\n",
    "\n",
    "print(tf_score)"
   ]
  },
  {
   "cell_type": "code",
   "execution_count": 83,
   "id": "17ff5e47",
   "metadata": {},
   "outputs": [
    {
     "name": "stdout",
     "output_type": "stream",
     "text": [
      "{'Dear': 0.003952569169960474, 'Shankra': 0.015810276679841896, 'Family,': 0.003952569169960474, 'facing': 0.003952569169960474, 'ordinary': 0.003952569169960474, 'situation': 0.007905138339920948, 'due': 0.007905138339920948, 'pandemic': 0.003952569169960474, 'COVID-19': 0.003952569169960474, 'affects': 0.003952569169960474, 'daily': 0.003952569169960474, 'life,': 0.003952569169960474, 'felt': 0.003952569169960474, 'sharing': 0.003952569169960474, 'thoughts': 0.003952569169960474, 'future': 0.003952569169960474, 'much': 0.007905138339920948, 'needed': 0.003952569169960474, 'To': 0.003952569169960474, 'reassure': 0.003952569169960474, 'you,': 0.003952569169960474, 'planning': 0.003952569169960474, 'considering': 0.003952569169960474, 'cancel': 0.003952569169960474, '2020': 0.0, 'This': 0.0, 'uncertain': 0.0, 'moment': 0.0, 'impact': 0.0, 'way': 0.0, 'society': 0.0, 'functions': 0.0, 'Festival': 0.0, 'exception': 0.0, 'Still,': 0.0, 'unshakable': 0.0, 'hope': 0.0, 'four': 0.0, 'months': 0.0, 'till': 0.0, 'festival': 0.0, 'gate': 0.0, 'opens,': 0.0, 'grand': 0.0, 'scale': 0.0, 'things': 0.0, 'different': 0.0, 'With': 0.0, 'faith': 0.0, 'still': 0.0, 'continue': 0.0, 'production': 0.0, 'planned': 0.0, 'As': 0.0, 'event': 0.0, 'organizers': 0.0, 'implement': 0.0, 'execute': 0.0, 'responsibility': 0.0, 'rules,': 0.0, 'regulations': 0.0, 'recommendations': 0.0, 'issued': 0.0, 'Swiss': 0.0, 'Government': 0.0, 'It': 0.0, 'always': 0.0, 'starts': 0.0, 'simple': 0.0, 'actionâ€¦': 0.0, 'ever': 0.0, 'prevails': 0.0, 'truth': 0.0, 'Individual': 0.0, 'immeasurable': 0.0, 'environment': 0.0, 'surrounding': 0.0, 'us,': 0.0, 'particularly': 0.0, 'delicate': 0.0, 'concerns': 0.0, 'health': 0.0, 'beloved': 0.0, 'family': 0.0, 'community': 0.0, 'We': 0.0, 'request': 0.0, 'constantly': 0.0, 'informed': 0.0, 'duty': 0.0, 'safety': 0.0, 'measures': 0.0, 'local': 0.0, 'government': 0.0, 'authorities,': 0.0, 'may': 0.0, 'vary': 0.0, 'country': 0.0, 'For': 0.0, 'ticket': 0.0, 'holders,': 0.0, 'working': 0.0, 'suitable': 0.0, 'solution': 0.0, 'case': 0.0, 'forced': 0.0, 'cancellation': 0.0, 'evaluating': 0.0, 'provide': 0.0, 'information': 0.0, 'time': 0.0, 'patience': 0.0, 'understanding': 0.0, 'Your': 0.0, 'Life': 0.0, 'Message': 0.0, 'Team': 0.0}\n",
      "{'Shankra': 0.015810276679841896}\n"
     ]
    }
   ],
   "source": [
    "tf_idf_score = {key: tf_score[key] * idf_score.get(key, 0) for key in tf_score.keys()}\n",
    "print(tf_idf_score)\n",
    "\n",
    "#to know the keyword with hisghest interaction \n",
    "\n",
    "def get_top_n(dict_elem, n):\n",
    "    result = dict(sorted(dict_elem.items(), key = itemgetter(1), reverse = True)[:n]) \n",
    "    return result\n",
    "\n",
    "print(get_top_n(tf_idf_score,1))"
   ]
  },
  {
   "cell_type": "code",
   "execution_count": null,
   "id": "168eafd6",
   "metadata": {},
   "outputs": [],
   "source": []
  }
 ],
 "metadata": {
  "kernelspec": {
   "display_name": "Python 3",
   "language": "python",
   "name": "python3"
  },
  "language_info": {
   "codemirror_mode": {
    "name": "ipython",
    "version": 3
   },
   "file_extension": ".py",
   "mimetype": "text/x-python",
   "name": "python",
   "nbconvert_exporter": "python",
   "pygments_lexer": "ipython3",
   "version": "3.8.8"
  }
 },
 "nbformat": 4,
 "nbformat_minor": 5
}
